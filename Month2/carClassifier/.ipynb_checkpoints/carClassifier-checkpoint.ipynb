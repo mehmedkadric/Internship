{
 "cells": [
  {
   "cell_type": "code",
   "execution_count": 1,
   "metadata": {},
   "outputs": [
    {
     "name": "stderr",
     "output_type": "stream",
     "text": [
      "C:\\Users\\eBrand\\AppData\\Local\\Programs\\Python\\Python36\\lib\\site-packages\\h5py\\__init__.py:36: FutureWarning: Conversion of the second argument of issubdtype from `float` to `np.floating` is deprecated. In future, it will be treated as `np.float64 == np.dtype(float).type`.\n",
      "  from ._conv import register_converters as _register_converters\n",
      "Using TensorFlow backend.\n"
     ]
    }
   ],
   "source": [
    "import os\n",
    "import numpy as np\n",
    "from skimage import io, transform\n",
    "from sklearn.metrics import accuracy_score\n",
    "from PIL import Image\n",
    "from keras.models import Sequential\n",
    "from keras.layers import Dense, Activation, Convolution2D\n",
    "from keras.layers import MaxPooling2D, Flatten, Dropout"
   ]
  },
  {
   "cell_type": "code",
   "execution_count": 2,
   "metadata": {},
   "outputs": [],
   "source": [
    "NB_EPOCH = 10\n",
    "IMAGE_SIZE = 50\n",
    "DATA_DIR = \"data\"\n",
    "TRAIN_DATA_FRACTION = 0.8"
   ]
  },
  {
   "cell_type": "code",
   "execution_count": 3,
   "metadata": {},
   "outputs": [],
   "source": [
    "def test_train_split(data, labels, f):\n",
    "    test_data_size = int(len(data) * f)\n",
    "    return data[:test_data_size], labels[:test_data_size], \\\n",
    "        data[test_data_size:], labels[test_data_size:]"
   ]
  },
  {
   "cell_type": "code",
   "execution_count": 4,
   "metadata": {},
   "outputs": [],
   "source": [
    "def CNN():\n",
    "    classifier = Sequential()\n",
    "    classifier.add(Convolution2D(8, 3, 3, border_mode='same', input_shape=(IMAGE_SIZE, IMAGE_SIZE, 3)))\n",
    "    classifier.add(Activation('relu'))\n",
    "    classifier.add(MaxPooling2D(pool_size=(2, 2), border_mode='same'))\n",
    "    classifier.add(Convolution2D(16, 3, 3, border_mode='same'))\n",
    "    classifier.add(Activation('relu'))\n",
    "    classifier.add(MaxPooling2D(pool_size=(2, 2), border_mode='same'))\n",
    "    classifier.add(Flatten())\n",
    "    classifier.add(Dense(2))\n",
    "    classifier.add(Activation('softmax'))\n",
    "    classifier.compile(optimizer='adam', loss='binary_crossentropy', metrics=['accuracy'])\n",
    "    return classifier"
   ]
  },
  {
   "cell_type": "code",
   "execution_count": 5,
   "metadata": {},
   "outputs": [],
   "source": [
    "def transform_img(image):\n",
    "    return transform.resize(image, (IMAGE_SIZE, IMAGE_SIZE, image.shape[2]))\n"
   ]
  },
  {
   "cell_type": "code",
   "execution_count": 6,
   "metadata": {},
   "outputs": [],
   "source": [
    "def loadData():\n",
    "    images = os.listdir(DATA_DIR)\n",
    "    train_data = []\n",
    "    train_labels = []\n",
    "    for image in images:\n",
    "        if image[-4:] == 'jpeg':\n",
    "            transformed_image = transform_img(io.imread(DATA_DIR + '/' + image))\n",
    "            train_data.append(transformed_image)\n",
    "            label_file = image[:-5] + '.txt'\n",
    "            with open(DATA_DIR + '/' + label_file) as f:\n",
    "                content = f.readlines()\n",
    "                label = int(float(content[0]))\n",
    "                l = [0, 0]\n",
    "                l[label] = 1\n",
    "                train_labels.append(l)\n",
    "    return np.array(train_data), np.array(train_labels)"
   ]
  },
  {
   "cell_type": "code",
   "execution_count": 7,
   "metadata": {},
   "outputs": [
    {
     "name": "stderr",
     "output_type": "stream",
     "text": [
      "C:\\Users\\eBrand\\AppData\\Local\\Programs\\Python\\Python36\\lib\\site-packages\\skimage\\transform\\_warps.py:84: UserWarning: The default mode, 'constant', will be changed to 'reflect' in skimage 0.15.\n",
      "  warn(\"The default mode, 'constant', will be changed to 'reflect' in \"\n"
     ]
    },
    {
     "name": "stdout",
     "output_type": "stream",
     "text": [
      "Train data size:  1210\n",
      "Test data size:  303\n"
     ]
    },
    {
     "name": "stderr",
     "output_type": "stream",
     "text": [
      "C:\\Users\\eBrand\\AppData\\Local\\Programs\\Python\\Python36\\lib\\site-packages\\ipykernel_launcher.py:3: UserWarning: Update your `Conv2D` call to the Keras 2 API: `Conv2D(8, (3, 3), input_shape=(50, 50, 3..., padding=\"same\")`\n",
      "  This is separate from the ipykernel package so we can avoid doing imports until\n",
      "C:\\Users\\eBrand\\AppData\\Local\\Programs\\Python\\Python36\\lib\\site-packages\\ipykernel_launcher.py:5: UserWarning: Update your `MaxPooling2D` call to the Keras 2 API: `MaxPooling2D(pool_size=(2, 2), padding=\"same\")`\n",
      "  \"\"\"\n",
      "C:\\Users\\eBrand\\AppData\\Local\\Programs\\Python\\Python36\\lib\\site-packages\\ipykernel_launcher.py:6: UserWarning: Update your `Conv2D` call to the Keras 2 API: `Conv2D(16, (3, 3), padding=\"same\")`\n",
      "  \n",
      "C:\\Users\\eBrand\\AppData\\Local\\Programs\\Python\\Python36\\lib\\site-packages\\ipykernel_launcher.py:8: UserWarning: Update your `MaxPooling2D` call to the Keras 2 API: `MaxPooling2D(pool_size=(2, 2), padding=\"same\")`\n",
      "  \n",
      "C:\\Users\\eBrand\\AppData\\Local\\Programs\\Python\\Python36\\lib\\site-packages\\keras\\models.py:942: UserWarning: The `nb_epoch` argument in `fit` has been renamed `epochs`.\n",
      "  warnings.warn('The `nb_epoch` argument in `fit` '\n"
     ]
    },
    {
     "name": "stdout",
     "output_type": "stream",
     "text": [
      "Epoch 1/10\n",
      "1210/1210 [==============================] - 2s 1ms/step - loss: 0.4108 - acc: 0.8273\n",
      "Epoch 2/10\n",
      "1210/1210 [==============================] - 1s 1ms/step - loss: 0.1789 - acc: 0.9455\n",
      "Epoch 3/10\n",
      "1210/1210 [==============================] - 1s 1ms/step - loss: 0.1236 - acc: 0.9620\n",
      "Epoch 4/10\n",
      "1210/1210 [==============================] - 1s 1ms/step - loss: 0.0952 - acc: 0.9727\n",
      "Epoch 5/10\n",
      "1210/1210 [==============================] - 1s 1ms/step - loss: 0.0925 - acc: 0.9769\n",
      "Epoch 6/10\n",
      "1210/1210 [==============================] - 1s 1ms/step - loss: 0.0810 - acc: 0.9769\n",
      "Epoch 7/10\n",
      "1210/1210 [==============================] - 1s 1ms/step - loss: 0.0864 - acc: 0.9760\n",
      "Epoch 8/10\n",
      "1210/1210 [==============================] - 1s 1ms/step - loss: 0.0704 - acc: 0.9793\n",
      "Epoch 9/10\n",
      "1210/1210 [==============================] - 1s 1ms/step - loss: 0.0692 - acc: 0.9802\n",
      "Epoch 10/10\n",
      "1210/1210 [==============================] - 1s 1ms/step - loss: 0.0773 - acc: 0.9727\n",
      "0.9372937293729373\n"
     ]
    }
   ],
   "source": [
    "data, labels = loadData()\n",
    "train_data, train_labels, test_data, test_labels = test_train_split(data, labels, TRAIN_DATA_FRACTION)\n",
    "\n",
    "print(\"Train data size: \", len(train_data))\n",
    "print(\"Test data size: \", len(test_data))\n",
    "idx = np.random.permutation(train_data.shape[0])\n",
    "model = CNN()\n",
    "model.fit(train_data[idx], train_labels[idx], nb_epoch=NB_EPOCH)\n",
    "preds = np.argmax(model.predict(test_data), axis=1)\n",
    "test_labels = np.argmax(test_labels, axis=1)\n",
    "print(accuracy_score(test_labels, preds))"
   ]
  },
  {
   "cell_type": "code",
   "execution_count": 10,
   "metadata": {},
   "outputs": [
    {
     "name": "stdout",
     "output_type": "stream",
     "text": [
      "[[0.9550182  0.04498172]]\n"
     ]
    },
    {
     "name": "stderr",
     "output_type": "stream",
     "text": [
      "C:\\Users\\eBrand\\AppData\\Local\\Programs\\Python\\Python36\\lib\\site-packages\\skimage\\transform\\_warps.py:84: UserWarning: The default mode, 'constant', will be changed to 'reflect' in skimage 0.15.\n",
      "  warn(\"The default mode, 'constant', will be changed to 'reflect' in \"\n"
     ]
    }
   ],
   "source": [
    "testImg = transform_img(io.imread('testSnow.jpg'))\n",
    "prediction = model.predict(testImg.reshape((1,50,50,3)))\n",
    "print(prediction)"
   ]
  },
  {
   "cell_type": "code",
   "execution_count": null,
   "metadata": {},
   "outputs": [],
   "source": []
  }
 ],
 "metadata": {
  "kernelspec": {
   "display_name": "Python 3",
   "language": "python",
   "name": "python3"
  },
  "language_info": {
   "codemirror_mode": {
    "name": "ipython",
    "version": 3
   },
   "file_extension": ".py",
   "mimetype": "text/x-python",
   "name": "python",
   "nbconvert_exporter": "python",
   "pygments_lexer": "ipython3",
   "version": "3.6.4"
  }
 },
 "nbformat": 4,
 "nbformat_minor": 1
}
