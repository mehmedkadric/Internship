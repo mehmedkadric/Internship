{
 "cells": [
  {
   "cell_type": "code",
   "execution_count": null,
   "metadata": {
    "collapsed": true
   },
   "outputs": [],
   "source": [
    "import os\n",
    "import numpy as np\n",
    "from skimage import io, transform\n",
    "from sklearn.metrics import accuracy_score\n",
    "from PIL import Image\n",
    "from keras.models import Sequential\n",
    "from keras.layers import Dense, Activation, Convolution2D\n",
    "from keras.layers import MaxPooling2D, Flatten, Dropout"
   ]
  },
  {
   "cell_type": "code",
   "execution_count": null,
   "metadata": {},
   "outputs": [],
   "source": [
    "NB_EPOCH = 10\n",
    "IMAGE_SIZE = 50\n",
    "DATA_DIR = \"data\"\n",
    "TRAIN_DATA_FRACTION = 0.8"
   ]
  },
  {
   "cell_type": "code",
   "execution_count": null,
   "metadata": {},
   "outputs": [],
   "source": [
    "def test_train_split(data, labels, f):\n",
    "    test_data_size = int(len(data) * f)\n",
    "    return data[:test_data_size], labels[:test_data_size], \\\n",
    "        data[test_data_size:], labels[test_data_size:]"
   ]
  },
  {
   "cell_type": "code",
   "execution_count": null,
   "metadata": {},
   "outputs": [],
   "source": [
    "def CNN():\n",
    "    classifier = Sequential()\n",
    "    classifier.add(Convolution2D(8, 3, 3, border_mode='same', input_shape=(IMAGE_SIZE, IMAGE_SIZE, 3)))\n",
    "    classifier.add(Activation('relu'))\n",
    "    classifier.add(MaxPooling2D(pool_size=(2, 2), border_mode='same'))\n",
    "    classifier.add(Convolution2D(16, 3, 3, border_mode='same'))\n",
    "    classifier.add(Activation('relu'))\n",
    "    classifier.add(MaxPooling2D(pool_size=(2, 2), border_mode='same'))\n",
    "    classifier.add(Flatten())\n",
    "    classifier.add(Dense(2))\n",
    "    classifier.add(Activation('softmax'))\n",
    "    classifier.compile(optimizer='adam', loss='binary_crossentropy', metrics=['accuracy'])\n",
    "    return classifier"
   ]
  },
  {
   "cell_type": "code",
   "execution_count": null,
   "metadata": {},
   "outputs": [],
   "source": [
    "def transform_img(image):\n",
    "    return transform.resize(image, (IMAGE_SIZE, IMAGE_SIZE, image.shape[2]))\n"
   ]
  },
  {
   "cell_type": "code",
   "execution_count": null,
   "metadata": {},
   "outputs": [],
   "source": [
    "def loadData():\n",
    "    images = os.listdir(DATA_DIR)\n",
    "    train_data = []\n",
    "    train_labels = []\n",
    "    for image in images:\n",
    "        if image[-4:] == 'jpeg':\n",
    "            transformed_image = transform_img(io.imread(DATA_DIR + '/' + image))\n",
    "            train_data.append(transformed_image)\n",
    "            label_file = image[:-5] + '.txt'\n",
    "            with open(DATA_DIR + '/' + label_file) as f:\n",
    "                content = f.readlines()\n",
    "                label = int(float(content[0]))\n",
    "                l = [0, 0]\n",
    "                l[label] = 1\n",
    "                train_labels.append(l)\n",
    "    return np.array(train_data), np.array(train_labels)"
   ]
  },
  {
   "cell_type": "code",
   "execution_count": null,
   "metadata": {},
   "outputs": [],
   "source": [
    "data, labels = loadData()\n",
    "train_data, train_labels, test_data, test_labels = test_train_split(data, labels, TRAIN_DATA_FRACTION)\n",
    "\n",
    "print(\"Train data size: \", len(train_data))\n",
    "print(\"Test data size: \", len(test_data))\n",
    "idx = np.random.permutation(train_data.shape[0])\n",
    "model = CNN()\n",
    "model.fit(train_data[idx], train_labels[idx], nb_epoch=NB_EPOCH)\n",
    "preds = np.argmax(model.predict(test_data), axis=1)\n",
    "test_labels = np.argmax(test_labels, axis=1)\n",
    "print(accuracy_score(test_labels, preds))"
   ]
  },
  {
   "cell_type": "code",
   "execution_count": null,
   "metadata": {},
   "outputs": [],
   "source": [
    "testImg = transform_img(io.imread('testSnow.jpg'))\n",
    "prediction = model.predict(testImg.reshape((1,50,50,3)))\n",
    "print(\"Probability of car presence in input picture [[Not-car Car]]:\", prediction)"
   ]
  }
 ],
 "metadata": {
  "kernelspec": {
   "display_name": "Python 2",
   "language": "python",
   "name": "python2"
  },
  "language_info": {
   "codemirror_mode": {
    "name": "ipython",
    "version": 2
   },
   "file_extension": ".py",
   "mimetype": "text/x-python",
   "name": "python",
   "nbconvert_exporter": "python",
   "pygments_lexer": "ipython2",
   "version": "2.7.6"
  }
 },
 "nbformat": 4,
 "nbformat_minor": 0
}
